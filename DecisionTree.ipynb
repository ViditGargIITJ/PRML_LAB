{
 "cells": [
  {
   "cell_type": "code",
   "execution_count": null,
   "id": "e8e4b1d9",
   "metadata": {},
   "outputs": [],
   "source": [
    "class node:\n",
    "    def __init__(self,prevSplit,depth,X,y):\n",
    "        self.depth = depth\n",
    "        self.left = None\n",
    "        self.right = None\n",
    "        self.prevSplit = prevSplit\n",
    "        self.X = X\n",
    "        self.y = y\n",
    "        self.thresh = None\n",
    "        self.SplitFeature = None\n",
    "        self.value = None\n",
    "        self.Splitfeatureindex = None\n",
    "\n",
    "class DecisionTreeClassifier:\n",
    "    def __init__(self,max_depth):\n",
    "        self.max_depth = max_depth\n",
    "        self.root = None\n",
    "    \n",
    "#     --------------------------------------------------------------------------\n",
    "#     helper functions for making good choice of split\n",
    "    def giniofnode(self,l):\n",
    "#     l is a 1 d list\n",
    "        total = np.sum(l)\n",
    "        gini = 1\n",
    "        for i in l :\n",
    "            gini = gini + (-((i/total)**2))\n",
    "        return gini\n",
    "# sum of weighted gini index\n",
    "    def ginioflevel(self,l):\n",
    "    #     l is a 2 d list\n",
    "        gini = 0\n",
    "        total = 0;\n",
    "        for i in l:\n",
    "            total += np.sum(i)\n",
    "        for i in l:\n",
    "            gini = gini + (np.sum(i)/total)*giniofnode(i)\n",
    "        return gini\n",
    "    def giniofy(self,y):\n",
    "    #     type of y should be Series\n",
    "        uni = list(y.unique())\n",
    "        l = [y[y == i].count() for i in uni]\n",
    "        return self.giniofnode(l)\n",
    "\n",
    "\n",
    "    def split(self,c,X,y):\n",
    "    #     print(len(y),len(X))\n",
    "        parentgini = 1\n",
    "        for i in range(3):\n",
    "    #         print(i,\"->\",(len(np.where(y[\"species\"] == i)[0])))\n",
    "            parentgini = parentgini - ((len(np.where(y == i))/len(y))**2)\n",
    "\n",
    "        bestginidecrease = 0\n",
    "        bestthresh = 0\n",
    "        if (parentgini == 0) :\n",
    "            return None,bestginidecrease\n",
    "\n",
    "        for thresh in np.unique(X[c]):\n",
    "                level = [[0,0,0],[0,0,0]]\n",
    "                for i,rows in X.iterrows():\n",
    "                    if(rows[c] == thresh):\n",
    "                        level[0][y[i]] += 1\n",
    "                    else :\n",
    "                        level[1][y[i]] += 1\n",
    "                gini = self.ginioflevel(level)\n",
    "                ginidecrease = parentgini - gini \n",
    "                if(bestginidecrease < ginidecrease) :\n",
    "                    bestginidecrease = ginidecrease\n",
    "                    bestthresh = thresh\n",
    "    #     print(bestginidecrease)\n",
    "        return bestthresh,bestginidecrease\n",
    "\n",
    "    def best_split(self,X,y,prevsplit):\n",
    "        bestsplitter = None\n",
    "        bestginidecrease = 0\n",
    "        bestthresh = None\n",
    "        bestsplitterindex = None\n",
    "        if(self.giniofy(y) == 0):\n",
    "    #         print(\"yes\")\n",
    "            return bestsplitter,bestsplitterindex,bestthresh,bestginidecrease\n",
    "        if(len(y) == 0):\n",
    "            return bestsplitter,bestsplitterindex,bestthresh,bestginidecrease\n",
    "        ind = 0\n",
    "        for c in X.columns:\n",
    "            thresh,ginidecrease = self.split(c,X,y)\n",
    "    #         print(c,thresh,ginidecrease)\n",
    "            if(bestginidecrease < ginidecrease and prevsplit != c):\n",
    "                bestginidecrease = ginidecrease\n",
    "                bestthresh = thresh\n",
    "                bestsplitter = c\n",
    "                bestsplitterindex = ind\n",
    "            ind +=1\n",
    "    #     print(bestsplitter,bestthresh,bestginidecrease)\n",
    "        return bestsplitter,bestsplitterindex,bestthresh,bestginidecrease\n",
    "\n",
    "    \n",
    "#     ---------------------------------------------------------------------------------------------------\n",
    "#      for training\n",
    "    def Train_tree(self,head):\n",
    "        if(head.depth == 0):\n",
    "#             IF WE HAVE REACHED THE MAXIMUM DEPTH\n",
    "            return head\n",
    "        head.X.index = [i for i in range(len(head.X))]\n",
    "        head.y.index = [i for i in range(len(head.y))]\n",
    "        splitter,splitterindex,thresh,ginidecrease = self.best_split(head.X,head.y,head.prevSplit)\n",
    "        if(ginidecrease <= 0.01 or splitter == None):\n",
    "#             IF THERE IS NO INFORMATION GAIN THEN WE WILL NOT BRANCH TREE\n",
    "#             head.value = givevalue(head.y)\n",
    "            return head\n",
    "    #     print(head.depth,splitter,thresh,ginidecrease)    \n",
    "        left_X_indexes = list(np.where(head.X[splitter] == thresh)[0])\n",
    "    #     print(len(left_X_indexes))\n",
    "        if(len(left_X_indexes) > 1):\n",
    "            left_X = head.X.iloc[left_X_indexes,:]\n",
    "            left_y = head.y[left_X_indexes]\n",
    "            head.left = self.Train_tree(node(splitter,head.depth-1,left_X,left_y))\n",
    "        right_X_indexes = list(np.where(head.X[splitter] != thresh)[0])\n",
    "    #     print(len(right_X_indexes))\n",
    "        if(len(right_X_indexes) > 1):\n",
    "            right_X = head.X.iloc[right_X_indexes,:]\n",
    "            right_y = head.y[right_X_indexes]\n",
    "            head.right = self.Train_tree(node(splitter,head.depth - 1,right_X,right_y))\n",
    "        head.thresh = thresh\n",
    "        head.SplitFeature = splitter\n",
    "        head.Splitfeatureindex = splitterindex\n",
    "    #     print(givevalue(head.y))\n",
    "    #     head.value = givevalue(head.y)\n",
    "        return head\n",
    "\n",
    "\n",
    "    def fit_train(self,X,y):\n",
    "        self.root = node(None,self.max_depth,X,y)\n",
    "        self.root = self.Train_tree(self.root)\n",
    "# -------------------------------------------------------------------------------------------------        \n",
    "#     for making predictions\n",
    "    \n",
    "    def givevalue(self,y):\n",
    "#     y is a series\n",
    "        l = [len(y[y == i]) for i in range(3)]\n",
    "        mnum = -1\n",
    "        mind = -1\n",
    "        for i in range(len(l)):\n",
    "            if(mnum < l[i] ):\n",
    "                mnum = l[i]\n",
    "                mind = i\n",
    "        return mind\n",
    "    \n",
    "    def traverse(self,head,x):\n",
    "        if(head == None):\n",
    "            print(\"error\")\n",
    "        if(head.SplitFeature == None):\n",
    "    #         this is a leaf node\n",
    "#             print(\"leaf\")\n",
    "            return self.givevalue(head.y)\n",
    "        feature = head.Splitfeatureindex\n",
    "        thresh = head.thresh\n",
    "        if(x[feature] == thresh and head.left != None):\n",
    "            return self.traverse(head.left,x)\n",
    "        elif(head.right != None):\n",
    "            return self.traverse(head.right,x)\n",
    "        return self.givevalue(head.y)\n",
    "    \n",
    "    def pred(self,x):\n",
    "    #     x is a list of feature\n",
    "        return self.traverse(self.root,x)\n",
    "    def predict(self,X):\n",
    "        predictions = []\n",
    "        for ind,rows in X.iterrows():\n",
    "            predictions.append(self.pred(list(rows)))\n",
    "        return predictions"
   ]
  },
  {
   "cell_type": "code",
   "execution_count": 1,
   "id": "f23e4074",
   "metadata": {
    "scrolled": true
   },
   "outputs": [
    {
     "name": "stdout",
     "output_type": "stream",
     "text": [
      "Requirement already satisfied: palmerpenguins in c:\\users\\vidit\\anaconda3\\lib\\site-packages (0.1.4)\n",
      "Requirement already satisfied: pandas in c:\\users\\vidit\\anaconda3\\lib\\site-packages (from palmerpenguins) (1.4.4)\n",
      "Requirement already satisfied: numpy in c:\\users\\vidit\\anaconda3\\lib\\site-packages (from palmerpenguins) (1.21.5)\n",
      "Requirement already satisfied: python-dateutil>=2.8.1 in c:\\users\\vidit\\anaconda3\\lib\\site-packages (from pandas->palmerpenguins) (2.8.2)\n",
      "Requirement already satisfied: pytz>=2020.1 in c:\\users\\vidit\\anaconda3\\lib\\site-packages (from pandas->palmerpenguins) (2022.7)\n",
      "Requirement already satisfied: six>=1.5 in c:\\users\\vidit\\anaconda3\\lib\\site-packages (from python-dateutil>=2.8.1->pandas->palmerpenguins) (1.16.0)\n"
     ]
    }
   ],
   "source": [
    "!pip install palmerpenguins"
   ]
  },
  {
   "cell_type": "code",
   "execution_count": 2,
   "id": "dbd4c744",
   "metadata": {},
   "outputs": [],
   "source": [
    "import pandas as pd\n",
    "import numpy as np\n",
    "from palmerpenguins import load_penguins\n",
    "\n",
    "df = load_penguins()"
   ]
  },
  {
   "cell_type": "code",
   "execution_count": 3,
   "id": "54e0502d",
   "metadata": {},
   "outputs": [
    {
     "data": {
      "text/html": [
       "<div>\n",
       "<style scoped>\n",
       "    .dataframe tbody tr th:only-of-type {\n",
       "        vertical-align: middle;\n",
       "    }\n",
       "\n",
       "    .dataframe tbody tr th {\n",
       "        vertical-align: top;\n",
       "    }\n",
       "\n",
       "    .dataframe thead th {\n",
       "        text-align: right;\n",
       "    }\n",
       "</style>\n",
       "<table border=\"1\" class=\"dataframe\">\n",
       "  <thead>\n",
       "    <tr style=\"text-align: right;\">\n",
       "      <th></th>\n",
       "      <th>species</th>\n",
       "      <th>island</th>\n",
       "      <th>bill_length_mm</th>\n",
       "      <th>bill_depth_mm</th>\n",
       "      <th>flipper_length_mm</th>\n",
       "      <th>body_mass_g</th>\n",
       "      <th>sex</th>\n",
       "      <th>year</th>\n",
       "    </tr>\n",
       "  </thead>\n",
       "  <tbody>\n",
       "    <tr>\n",
       "      <th>0</th>\n",
       "      <td>Adelie</td>\n",
       "      <td>Torgersen</td>\n",
       "      <td>39.1</td>\n",
       "      <td>18.7</td>\n",
       "      <td>181.0</td>\n",
       "      <td>3750.0</td>\n",
       "      <td>male</td>\n",
       "      <td>2007</td>\n",
       "    </tr>\n",
       "    <tr>\n",
       "      <th>1</th>\n",
       "      <td>Adelie</td>\n",
       "      <td>Torgersen</td>\n",
       "      <td>39.5</td>\n",
       "      <td>17.4</td>\n",
       "      <td>186.0</td>\n",
       "      <td>3800.0</td>\n",
       "      <td>female</td>\n",
       "      <td>2007</td>\n",
       "    </tr>\n",
       "    <tr>\n",
       "      <th>2</th>\n",
       "      <td>Adelie</td>\n",
       "      <td>Torgersen</td>\n",
       "      <td>40.3</td>\n",
       "      <td>18.0</td>\n",
       "      <td>195.0</td>\n",
       "      <td>3250.0</td>\n",
       "      <td>female</td>\n",
       "      <td>2007</td>\n",
       "    </tr>\n",
       "    <tr>\n",
       "      <th>3</th>\n",
       "      <td>Adelie</td>\n",
       "      <td>Torgersen</td>\n",
       "      <td>NaN</td>\n",
       "      <td>NaN</td>\n",
       "      <td>NaN</td>\n",
       "      <td>NaN</td>\n",
       "      <td>NaN</td>\n",
       "      <td>2007</td>\n",
       "    </tr>\n",
       "    <tr>\n",
       "      <th>4</th>\n",
       "      <td>Adelie</td>\n",
       "      <td>Torgersen</td>\n",
       "      <td>36.7</td>\n",
       "      <td>19.3</td>\n",
       "      <td>193.0</td>\n",
       "      <td>3450.0</td>\n",
       "      <td>female</td>\n",
       "      <td>2007</td>\n",
       "    </tr>\n",
       "  </tbody>\n",
       "</table>\n",
       "</div>"
      ],
      "text/plain": [
       "  species     island  bill_length_mm  bill_depth_mm  flipper_length_mm  \\\n",
       "0  Adelie  Torgersen            39.1           18.7              181.0   \n",
       "1  Adelie  Torgersen            39.5           17.4              186.0   \n",
       "2  Adelie  Torgersen            40.3           18.0              195.0   \n",
       "3  Adelie  Torgersen             NaN            NaN                NaN   \n",
       "4  Adelie  Torgersen            36.7           19.3              193.0   \n",
       "\n",
       "   body_mass_g     sex  year  \n",
       "0       3750.0    male  2007  \n",
       "1       3800.0  female  2007  \n",
       "2       3250.0  female  2007  \n",
       "3          NaN     NaN  2007  \n",
       "4       3450.0  female  2007  "
      ]
     },
     "execution_count": 3,
     "metadata": {},
     "output_type": "execute_result"
    }
   ],
   "source": [
    "df.head()"
   ]
  },
  {
   "cell_type": "code",
   "execution_count": 4,
   "id": "95c988e1",
   "metadata": {},
   "outputs": [
    {
     "data": {
      "text/plain": [
       "species               0\n",
       "island                0\n",
       "bill_length_mm        2\n",
       "bill_depth_mm         2\n",
       "flipper_length_mm     2\n",
       "body_mass_g           2\n",
       "sex                  11\n",
       "year                  0\n",
       "dtype: int64"
      ]
     },
     "execution_count": 4,
     "metadata": {},
     "output_type": "execute_result"
    }
   ],
   "source": [
    "df.isnull().sum()"
   ]
  },
  {
   "cell_type": "code",
   "execution_count": 5,
   "id": "79c565b7",
   "metadata": {},
   "outputs": [
    {
     "data": {
      "text/plain": [
       "344"
      ]
     },
     "execution_count": 5,
     "metadata": {},
     "output_type": "execute_result"
    }
   ],
   "source": [
    "len(df)"
   ]
  },
  {
   "cell_type": "code",
   "execution_count": 6,
   "id": "4f113495",
   "metadata": {},
   "outputs": [],
   "source": [
    "df[\"flipper_length_mm\"].fillna(df[\"flipper_length_mm\"].mean(),inplace = True)\n",
    "df[\"bill_length_mm\"].fillna(df[\"bill_length_mm\"].mean(),inplace = True)\n",
    "df[\"bill_depth_mm\"].fillna(df[\"bill_depth_mm\"].mean(),inplace = True)"
   ]
  },
  {
   "cell_type": "code",
   "execution_count": 7,
   "id": "b3b32516",
   "metadata": {},
   "outputs": [
    {
     "data": {
      "text/html": [
       "<div>\n",
       "<style scoped>\n",
       "    .dataframe tbody tr th:only-of-type {\n",
       "        vertical-align: middle;\n",
       "    }\n",
       "\n",
       "    .dataframe tbody tr th {\n",
       "        vertical-align: top;\n",
       "    }\n",
       "\n",
       "    .dataframe thead th {\n",
       "        text-align: right;\n",
       "    }\n",
       "</style>\n",
       "<table border=\"1\" class=\"dataframe\">\n",
       "  <thead>\n",
       "    <tr style=\"text-align: right;\">\n",
       "      <th></th>\n",
       "      <th>species</th>\n",
       "      <th>island</th>\n",
       "      <th>bill_length_mm</th>\n",
       "      <th>bill_depth_mm</th>\n",
       "      <th>flipper_length_mm</th>\n",
       "      <th>body_mass_g</th>\n",
       "      <th>sex</th>\n",
       "      <th>year</th>\n",
       "    </tr>\n",
       "  </thead>\n",
       "  <tbody>\n",
       "    <tr>\n",
       "      <th>0</th>\n",
       "      <td>Adelie</td>\n",
       "      <td>Torgersen</td>\n",
       "      <td>39.10000</td>\n",
       "      <td>18.70000</td>\n",
       "      <td>181.000000</td>\n",
       "      <td>3750.0</td>\n",
       "      <td>male</td>\n",
       "      <td>2007</td>\n",
       "    </tr>\n",
       "    <tr>\n",
       "      <th>1</th>\n",
       "      <td>Adelie</td>\n",
       "      <td>Torgersen</td>\n",
       "      <td>39.50000</td>\n",
       "      <td>17.40000</td>\n",
       "      <td>186.000000</td>\n",
       "      <td>3800.0</td>\n",
       "      <td>female</td>\n",
       "      <td>2007</td>\n",
       "    </tr>\n",
       "    <tr>\n",
       "      <th>2</th>\n",
       "      <td>Adelie</td>\n",
       "      <td>Torgersen</td>\n",
       "      <td>40.30000</td>\n",
       "      <td>18.00000</td>\n",
       "      <td>195.000000</td>\n",
       "      <td>3250.0</td>\n",
       "      <td>female</td>\n",
       "      <td>2007</td>\n",
       "    </tr>\n",
       "    <tr>\n",
       "      <th>3</th>\n",
       "      <td>Adelie</td>\n",
       "      <td>Torgersen</td>\n",
       "      <td>43.92193</td>\n",
       "      <td>17.15117</td>\n",
       "      <td>200.915205</td>\n",
       "      <td>NaN</td>\n",
       "      <td>NaN</td>\n",
       "      <td>2007</td>\n",
       "    </tr>\n",
       "    <tr>\n",
       "      <th>4</th>\n",
       "      <td>Adelie</td>\n",
       "      <td>Torgersen</td>\n",
       "      <td>36.70000</td>\n",
       "      <td>19.30000</td>\n",
       "      <td>193.000000</td>\n",
       "      <td>3450.0</td>\n",
       "      <td>female</td>\n",
       "      <td>2007</td>\n",
       "    </tr>\n",
       "  </tbody>\n",
       "</table>\n",
       "</div>"
      ],
      "text/plain": [
       "  species     island  bill_length_mm  bill_depth_mm  flipper_length_mm  \\\n",
       "0  Adelie  Torgersen        39.10000       18.70000         181.000000   \n",
       "1  Adelie  Torgersen        39.50000       17.40000         186.000000   \n",
       "2  Adelie  Torgersen        40.30000       18.00000         195.000000   \n",
       "3  Adelie  Torgersen        43.92193       17.15117         200.915205   \n",
       "4  Adelie  Torgersen        36.70000       19.30000         193.000000   \n",
       "\n",
       "   body_mass_g     sex  year  \n",
       "0       3750.0    male  2007  \n",
       "1       3800.0  female  2007  \n",
       "2       3250.0  female  2007  \n",
       "3          NaN     NaN  2007  \n",
       "4       3450.0  female  2007  "
      ]
     },
     "execution_count": 7,
     "metadata": {},
     "output_type": "execute_result"
    }
   ],
   "source": [
    "df.head()"
   ]
  },
  {
   "cell_type": "code",
   "execution_count": 8,
   "id": "7c807838",
   "metadata": {},
   "outputs": [],
   "source": [
    "df.dropna(inplace = True)"
   ]
  },
  {
   "cell_type": "code",
   "execution_count": 9,
   "id": "128240f3",
   "metadata": {
    "scrolled": true
   },
   "outputs": [
    {
     "data": {
      "text/html": [
       "<div>\n",
       "<style scoped>\n",
       "    .dataframe tbody tr th:only-of-type {\n",
       "        vertical-align: middle;\n",
       "    }\n",
       "\n",
       "    .dataframe tbody tr th {\n",
       "        vertical-align: top;\n",
       "    }\n",
       "\n",
       "    .dataframe thead th {\n",
       "        text-align: right;\n",
       "    }\n",
       "</style>\n",
       "<table border=\"1\" class=\"dataframe\">\n",
       "  <thead>\n",
       "    <tr style=\"text-align: right;\">\n",
       "      <th></th>\n",
       "      <th>species</th>\n",
       "      <th>island</th>\n",
       "      <th>bill_length_mm</th>\n",
       "      <th>bill_depth_mm</th>\n",
       "      <th>flipper_length_mm</th>\n",
       "      <th>body_mass_g</th>\n",
       "      <th>sex</th>\n",
       "      <th>year</th>\n",
       "    </tr>\n",
       "  </thead>\n",
       "  <tbody>\n",
       "    <tr>\n",
       "      <th>0</th>\n",
       "      <td>Adelie</td>\n",
       "      <td>Torgersen</td>\n",
       "      <td>39.1</td>\n",
       "      <td>18.7</td>\n",
       "      <td>181.0</td>\n",
       "      <td>3750.0</td>\n",
       "      <td>male</td>\n",
       "      <td>2007</td>\n",
       "    </tr>\n",
       "    <tr>\n",
       "      <th>1</th>\n",
       "      <td>Adelie</td>\n",
       "      <td>Torgersen</td>\n",
       "      <td>39.5</td>\n",
       "      <td>17.4</td>\n",
       "      <td>186.0</td>\n",
       "      <td>3800.0</td>\n",
       "      <td>female</td>\n",
       "      <td>2007</td>\n",
       "    </tr>\n",
       "    <tr>\n",
       "      <th>2</th>\n",
       "      <td>Adelie</td>\n",
       "      <td>Torgersen</td>\n",
       "      <td>40.3</td>\n",
       "      <td>18.0</td>\n",
       "      <td>195.0</td>\n",
       "      <td>3250.0</td>\n",
       "      <td>female</td>\n",
       "      <td>2007</td>\n",
       "    </tr>\n",
       "    <tr>\n",
       "      <th>4</th>\n",
       "      <td>Adelie</td>\n",
       "      <td>Torgersen</td>\n",
       "      <td>36.7</td>\n",
       "      <td>19.3</td>\n",
       "      <td>193.0</td>\n",
       "      <td>3450.0</td>\n",
       "      <td>female</td>\n",
       "      <td>2007</td>\n",
       "    </tr>\n",
       "    <tr>\n",
       "      <th>5</th>\n",
       "      <td>Adelie</td>\n",
       "      <td>Torgersen</td>\n",
       "      <td>39.3</td>\n",
       "      <td>20.6</td>\n",
       "      <td>190.0</td>\n",
       "      <td>3650.0</td>\n",
       "      <td>male</td>\n",
       "      <td>2007</td>\n",
       "    </tr>\n",
       "  </tbody>\n",
       "</table>\n",
       "</div>"
      ],
      "text/plain": [
       "  species     island  bill_length_mm  bill_depth_mm  flipper_length_mm  \\\n",
       "0  Adelie  Torgersen            39.1           18.7              181.0   \n",
       "1  Adelie  Torgersen            39.5           17.4              186.0   \n",
       "2  Adelie  Torgersen            40.3           18.0              195.0   \n",
       "4  Adelie  Torgersen            36.7           19.3              193.0   \n",
       "5  Adelie  Torgersen            39.3           20.6              190.0   \n",
       "\n",
       "   body_mass_g     sex  year  \n",
       "0       3750.0    male  2007  \n",
       "1       3800.0  female  2007  \n",
       "2       3250.0  female  2007  \n",
       "4       3450.0  female  2007  \n",
       "5       3650.0    male  2007  "
      ]
     },
     "execution_count": 9,
     "metadata": {},
     "output_type": "execute_result"
    }
   ],
   "source": [
    "df.head()"
   ]
  },
  {
   "cell_type": "code",
   "execution_count": 10,
   "id": "8c359925",
   "metadata": {
    "scrolled": false
   },
   "outputs": [
    {
     "data": {
      "text/html": [
       "<div>\n",
       "<style scoped>\n",
       "    .dataframe tbody tr th:only-of-type {\n",
       "        vertical-align: middle;\n",
       "    }\n",
       "\n",
       "    .dataframe tbody tr th {\n",
       "        vertical-align: top;\n",
       "    }\n",
       "\n",
       "    .dataframe thead th {\n",
       "        text-align: right;\n",
       "    }\n",
       "</style>\n",
       "<table border=\"1\" class=\"dataframe\">\n",
       "  <thead>\n",
       "    <tr style=\"text-align: right;\">\n",
       "      <th></th>\n",
       "      <th>bill_length_mm</th>\n",
       "      <th>bill_depth_mm</th>\n",
       "      <th>flipper_length_mm</th>\n",
       "      <th>body_mass_g</th>\n",
       "      <th>year</th>\n",
       "    </tr>\n",
       "  </thead>\n",
       "  <tbody>\n",
       "    <tr>\n",
       "      <th>bill_length_mm</th>\n",
       "      <td>1.000000</td>\n",
       "      <td>-0.228626</td>\n",
       "      <td>0.653096</td>\n",
       "      <td>0.589451</td>\n",
       "      <td>0.032657</td>\n",
       "    </tr>\n",
       "    <tr>\n",
       "      <th>bill_depth_mm</th>\n",
       "      <td>-0.228626</td>\n",
       "      <td>1.000000</td>\n",
       "      <td>-0.577792</td>\n",
       "      <td>-0.472016</td>\n",
       "      <td>-0.048182</td>\n",
       "    </tr>\n",
       "    <tr>\n",
       "      <th>flipper_length_mm</th>\n",
       "      <td>0.653096</td>\n",
       "      <td>-0.577792</td>\n",
       "      <td>1.000000</td>\n",
       "      <td>0.872979</td>\n",
       "      <td>0.151068</td>\n",
       "    </tr>\n",
       "    <tr>\n",
       "      <th>body_mass_g</th>\n",
       "      <td>0.589451</td>\n",
       "      <td>-0.472016</td>\n",
       "      <td>0.872979</td>\n",
       "      <td>1.000000</td>\n",
       "      <td>0.021862</td>\n",
       "    </tr>\n",
       "    <tr>\n",
       "      <th>year</th>\n",
       "      <td>0.032657</td>\n",
       "      <td>-0.048182</td>\n",
       "      <td>0.151068</td>\n",
       "      <td>0.021862</td>\n",
       "      <td>1.000000</td>\n",
       "    </tr>\n",
       "  </tbody>\n",
       "</table>\n",
       "</div>"
      ],
      "text/plain": [
       "                   bill_length_mm  bill_depth_mm  flipper_length_mm  \\\n",
       "bill_length_mm           1.000000      -0.228626           0.653096   \n",
       "bill_depth_mm           -0.228626       1.000000          -0.577792   \n",
       "flipper_length_mm        0.653096      -0.577792           1.000000   \n",
       "body_mass_g              0.589451      -0.472016           0.872979   \n",
       "year                     0.032657      -0.048182           0.151068   \n",
       "\n",
       "                   body_mass_g      year  \n",
       "bill_length_mm        0.589451  0.032657  \n",
       "bill_depth_mm        -0.472016 -0.048182  \n",
       "flipper_length_mm     0.872979  0.151068  \n",
       "body_mass_g           1.000000  0.021862  \n",
       "year                  0.021862  1.000000  "
      ]
     },
     "execution_count": 10,
     "metadata": {},
     "output_type": "execute_result"
    }
   ],
   "source": [
    "df.corr()"
   ]
  },
  {
   "cell_type": "code",
   "execution_count": 11,
   "id": "8d755942",
   "metadata": {},
   "outputs": [],
   "source": [
    "df.drop(\"body_mass_g\",axis = 1,inplace = True)"
   ]
  },
  {
   "cell_type": "code",
   "execution_count": 12,
   "id": "c9279f70",
   "metadata": {},
   "outputs": [
    {
     "data": {
      "text/plain": [
       "<AxesSubplot:xlabel='island', ylabel='count'>"
      ]
     },
     "execution_count": 12,
     "metadata": {},
     "output_type": "execute_result"
    },
    {
     "data": {
      "image/png": "[encoded data removed]",
      "text/plain": [
       "<Figure size 2000x1000 with 3 Axes>"
      ]
     },
     "metadata": {},
     "output_type": "display_data"
    }
   ],
   "source": [
    "import seaborn as sns\n",
    "import matplotlib.pyplot as plt\n",
    "plt.figure(figsize = (20,10))\n",
    "plt.subplot(2,2,1)\n",
    "sns.countplot(x = \"island\",hue = \"species\",data = df)\n",
    "plt.subplot(2,2,2)\n",
    "sns.countplot(x = \"sex\",hue = \"species\",data = df)\n",
    "plt.subplot(2,2,3)\n",
    "sns.countplot(x = \"island\",hue = \"sex\",data = df)\n"
   ]
  },
  {
   "cell_type": "code",
   "execution_count": 13,
   "id": "6e066ffd",
   "metadata": {
    "scrolled": true
   },
   "outputs": [
    {
     "data": {
      "image/png": "[encoded data removed]",
      "text/plain": [
       "<Figure size 2000x1000 with 3 Axes>"
      ]
     },
     "metadata": {},
     "output_type": "display_data"
    }
   ],
   "source": [
    "plt.figure(figsize = (20,10))\n",
    "# fig, axes = plt.subplots(1, 3, figsize=(15, 5), sharey=True)\n",
    "# axs  = axs.flatten()/\n",
    "plt.subplot(1,3,1)\n",
    "plt.hist(x = \"bill_depth_mm\",data = df[df[\"species\"] == \"Adelie\"])\n",
    "plt.title(\"for 0\")\n",
    "plt.subplot(1,3,2)\n",
    "plt.hist(x = \"bill_depth_mm\",data = df[df[\"species\"] == \"Gentoo\"])\n",
    "plt.subplot(1,3,3)\n",
    "plt.hist(x = \"bill_depth_mm\",data = df[df[\"species\"] == \"Chinstrap\"])\n",
    "# plt.hist(x = \"bill_length_mm\",hue = \"species\",data = df[df[\"species\"] == 1])\n",
    "plt.show()"
   ]
  },
  {
   "cell_type": "code",
   "execution_count": 14,
   "id": "7627a0c4",
   "metadata": {},
   "outputs": [
    {
     "data": {
      "image/png": "[encoded data removed]",
      "text/plain": [
       "<Figure size 2000x1000 with 3 Axes>"
      ]
     },
     "metadata": {},
     "output_type": "display_data"
    }
   ],
   "source": [
    "plt.figure(figsize = (20,10))\n",
    "# fig, axes = plt.subplots(1, 3, figsize=(15, 5), sharey=True)\n",
    "# axs  = axs.flatten()/\n",
    "plt.subplot(1,3,1)\n",
    "plt.hist(x = \"bill_length_mm\",data = df[df[\"species\"] == \"Adelie\"])\n",
    "plt.title(\"for 0\")\n",
    "plt.subplot(1,3,2)\n",
    "plt.hist(x = \"bill_length_mm\",data = df[df[\"species\"] == \"Gentoo\"])\n",
    "plt.subplot(1,3,3)\n",
    "plt.hist(x = \"bill_length_mm\",data = df[df[\"species\"] == \"Chinstrap\"])\n",
    "# plt.hist(x = \"bill_length_mm\",hue = \"species\",data = df[df[\"species\"] == 1])\n",
    "plt.show()"
   ]
  },
  {
   "cell_type": "code",
   "execution_count": 15,
   "id": "653dcf2e",
   "metadata": {},
   "outputs": [
    {
     "data": {
      "text/plain": [
       "array(['Adelie', 'Gentoo', 'Chinstrap'], dtype=object)"
      ]
     },
     "execution_count": 15,
     "metadata": {},
     "output_type": "execute_result"
    }
   ],
   "source": [
    "df[\"species\"].unique()"
   ]
  },
  {
   "cell_type": "code",
   "execution_count": 16,
   "id": "f920ec8e",
   "metadata": {},
   "outputs": [
    {
     "data": {
      "text/plain": [
       "array(['Torgersen', 'Biscoe', 'Dream'], dtype=object)"
      ]
     },
     "execution_count": 16,
     "metadata": {},
     "output_type": "execute_result"
    }
   ],
   "source": [
    "df[\"island\"].unique()"
   ]
  },
  {
   "cell_type": "code",
   "execution_count": 17,
   "id": "cf3a0964",
   "metadata": {},
   "outputs": [
    {
     "data": {
      "text/plain": [
       "array(['male', 'female'], dtype=object)"
      ]
     },
     "execution_count": 17,
     "metadata": {},
     "output_type": "execute_result"
    }
   ],
   "source": [
    "df.sex.unique()"
   ]
  },
  {
   "cell_type": "code",
   "execution_count": 18,
   "id": "15f1a310",
   "metadata": {},
   "outputs": [],
   "source": [
    "from sklearn.preprocessing import LabelEncoder\n",
    "le1 = LabelEncoder()\n",
    "df[\"species\"] =  le1.fit_transform(df[\"species\"])\n",
    "le2 = LabelEncoder()\n",
    "df[\"island\"] = le2.fit_transform(df[\"island\"])\n",
    "df[\"sex\"] = le2.fit_transform(df[\"sex\"])\n",
    "le3 = LabelEncoder()\n",
    "df[\"year\"] = le3.fit_transform(df[\"year\"])"
   ]
  },
  {
   "cell_type": "code",
   "execution_count": 19,
   "id": "ca836880",
   "metadata": {},
   "outputs": [
    {
     "data": {
      "text/html": [
       "<div>\n",
       "<style scoped>\n",
       "    .dataframe tbody tr th:only-of-type {\n",
       "        vertical-align: middle;\n",
       "    }\n",
       "\n",
       "    .dataframe tbody tr th {\n",
       "        vertical-align: top;\n",
       "    }\n",
       "\n",
       "    .dataframe thead th {\n",
       "        text-align: right;\n",
       "    }\n",
       "</style>\n",
       "<table border=\"1\" class=\"dataframe\">\n",
       "  <thead>\n",
       "    <tr style=\"text-align: right;\">\n",
       "      <th></th>\n",
       "      <th>species</th>\n",
       "      <th>island</th>\n",
       "      <th>bill_length_mm</th>\n",
       "      <th>bill_depth_mm</th>\n",
       "      <th>flipper_length_mm</th>\n",
       "      <th>sex</th>\n",
       "      <th>year</th>\n",
       "    </tr>\n",
       "  </thead>\n",
       "  <tbody>\n",
       "    <tr>\n",
       "      <th>0</th>\n",
       "      <td>0</td>\n",
       "      <td>2</td>\n",
       "      <td>39.1</td>\n",
       "      <td>18.7</td>\n",
       "      <td>181.0</td>\n",
       "      <td>1</td>\n",
       "      <td>0</td>\n",
       "    </tr>\n",
       "    <tr>\n",
       "      <th>1</th>\n",
       "      <td>0</td>\n",
       "      <td>2</td>\n",
       "      <td>39.5</td>\n",
       "      <td>17.4</td>\n",
       "      <td>186.0</td>\n",
       "      <td>0</td>\n",
       "      <td>0</td>\n",
       "    </tr>\n",
       "    <tr>\n",
       "      <th>2</th>\n",
       "      <td>0</td>\n",
       "      <td>2</td>\n",
       "      <td>40.3</td>\n",
       "      <td>18.0</td>\n",
       "      <td>195.0</td>\n",
       "      <td>0</td>\n",
       "      <td>0</td>\n",
       "    </tr>\n",
       "    <tr>\n",
       "      <th>4</th>\n",
       "      <td>0</td>\n",
       "      <td>2</td>\n",
       "      <td>36.7</td>\n",
       "      <td>19.3</td>\n",
       "      <td>193.0</td>\n",
       "      <td>0</td>\n",
       "      <td>0</td>\n",
       "    </tr>\n",
       "    <tr>\n",
       "      <th>5</th>\n",
       "      <td>0</td>\n",
       "      <td>2</td>\n",
       "      <td>39.3</td>\n",
       "      <td>20.6</td>\n",
       "      <td>190.0</td>\n",
       "      <td>1</td>\n",
       "      <td>0</td>\n",
       "    </tr>\n",
       "  </tbody>\n",
       "</table>\n",
       "</div>"
      ],
      "text/plain": [
       "   species  island  bill_length_mm  bill_depth_mm  flipper_length_mm  sex  \\\n",
       "0        0       2            39.1           18.7              181.0    1   \n",
       "1        0       2            39.5           17.4              186.0    0   \n",
       "2        0       2            40.3           18.0              195.0    0   \n",
       "4        0       2            36.7           19.3              193.0    0   \n",
       "5        0       2            39.3           20.6              190.0    1   \n",
       "\n",
       "   year  \n",
       "0     0  \n",
       "1     0  \n",
       "2     0  \n",
       "4     0  \n",
       "5     0  "
      ]
     },
     "execution_count": 19,
     "metadata": {},
     "output_type": "execute_result"
    }
   ],
   "source": [
    "df.head()"
   ]
  },
  {
   "cell_type": "markdown",
   "id": "439878ca",
   "metadata": {},
   "source": [
    "Functions for gini index\n"
   ]
  },
  {
   "cell_type": "code",
   "execution_count": 20,
   "id": "41a52e92",
   "metadata": {},
   "outputs": [],
   "source": [
    "# gini index for a node\n",
    "\n",
    "def giniofnode(l):\n",
    "    total = np.sum(l)\n",
    "    gini = 1\n",
    "    for i in l :\n",
    "        gini = gini + (-((i/total)**2))\n",
    "    return gini\n",
    "# sum of weighted gini index\n",
    "def ginioflevel(l):\n",
    "    gini = 0\n",
    "    total = 0;\n",
    "    for i in l:\n",
    "        total += np.sum(i)\n",
    "    for i in l:\n",
    "        gini = gini + (np.sum(i)/total)*giniofnode(i)\n",
    "    return gini\n",
    "\n",
    "\n",
    "# level = [[1,2,1],[1,1,1]]\n",
    "# print(ginioflevel(level))         "
   ]
  },
  {
   "cell_type": "code",
   "execution_count": 21,
   "id": "2aa10b0b",
   "metadata": {},
   "outputs": [],
   "source": [
    "from sklearn.model_selection import train_test_split\n",
    "X = df.drop(\"species\",axis = 1)\n",
    "y = df[\"species\"]\n",
    "x_train,x_test,y_train,y_test = train_test_split(X,y,test_size = 0.20)"
   ]
  },
  {
   "cell_type": "code",
   "execution_count": 22,
   "id": "e879cc4d",
   "metadata": {
    "scrolled": true
   },
   "outputs": [
    {
     "data": {
      "text/html": [
       "<div>\n",
       "<style scoped>\n",
       "    .dataframe tbody tr th:only-of-type {\n",
       "        vertical-align: middle;\n",
       "    }\n",
       "\n",
       "    .dataframe tbody tr th {\n",
       "        vertical-align: top;\n",
       "    }\n",
       "\n",
       "    .dataframe thead th {\n",
       "        text-align: right;\n",
       "    }\n",
       "</style>\n",
       "<table border=\"1\" class=\"dataframe\">\n",
       "  <thead>\n",
       "    <tr style=\"text-align: right;\">\n",
       "      <th></th>\n",
       "      <th>island</th>\n",
       "      <th>bill_length_mm</th>\n",
       "      <th>bill_depth_mm</th>\n",
       "      <th>flipper_length_mm</th>\n",
       "      <th>sex</th>\n",
       "      <th>year</th>\n",
       "    </tr>\n",
       "  </thead>\n",
       "  <tbody>\n",
       "    <tr>\n",
       "      <th>207</th>\n",
       "      <td>0</td>\n",
       "      <td>45.0</td>\n",
       "      <td>15.4</td>\n",
       "      <td>220.0</td>\n",
       "      <td>1</td>\n",
       "      <td>1</td>\n",
       "    </tr>\n",
       "    <tr>\n",
       "      <th>325</th>\n",
       "      <td>1</td>\n",
       "      <td>49.8</td>\n",
       "      <td>17.3</td>\n",
       "      <td>198.0</td>\n",
       "      <td>0</td>\n",
       "      <td>2</td>\n",
       "    </tr>\n",
       "    <tr>\n",
       "      <th>157</th>\n",
       "      <td>0</td>\n",
       "      <td>46.5</td>\n",
       "      <td>13.5</td>\n",
       "      <td>210.0</td>\n",
       "      <td>0</td>\n",
       "      <td>0</td>\n",
       "    </tr>\n",
       "    <tr>\n",
       "      <th>96</th>\n",
       "      <td>1</td>\n",
       "      <td>38.1</td>\n",
       "      <td>18.6</td>\n",
       "      <td>190.0</td>\n",
       "      <td>0</td>\n",
       "      <td>1</td>\n",
       "    </tr>\n",
       "    <tr>\n",
       "      <th>160</th>\n",
       "      <td>0</td>\n",
       "      <td>43.3</td>\n",
       "      <td>13.4</td>\n",
       "      <td>209.0</td>\n",
       "      <td>0</td>\n",
       "      <td>0</td>\n",
       "    </tr>\n",
       "  </tbody>\n",
       "</table>\n",
       "</div>"
      ],
      "text/plain": [
       "     island  bill_length_mm  bill_depth_mm  flipper_length_mm  sex  year\n",
       "207       0            45.0           15.4              220.0    1     1\n",
       "325       1            49.8           17.3              198.0    0     2\n",
       "157       0            46.5           13.5              210.0    0     0\n",
       "96        1            38.1           18.6              190.0    0     1\n",
       "160       0            43.3           13.4              209.0    0     0"
      ]
     },
     "execution_count": 22,
     "metadata": {},
     "output_type": "execute_result"
    }
   ],
   "source": [
    "x_train.head()"
   ]
  },
  {
   "cell_type": "code",
   "execution_count": 23,
   "id": "8f57ae22",
   "metadata": {},
   "outputs": [
    {
     "data": {
      "text/plain": [
       "207    2\n",
       "325    1\n",
       "157    2\n",
       "96     0\n",
       "160    2\n",
       "Name: species, dtype: int32"
      ]
     },
     "execution_count": 23,
     "metadata": {},
     "output_type": "execute_result"
    }
   ],
   "source": [
    "y_train.head()"
   ]
  },
  {
   "cell_type": "code",
   "execution_count": 24,
   "id": "f372bf00",
   "metadata": {},
   "outputs": [],
   "source": [
    "def find_thresh(x,y):\n",
    "#     x,y list\n",
    "    m = np.mean(x)\n",
    "    threshold = np.min(x)\n",
    "    step = m/10\n",
    "#     level = [[0,0],[0,0]] #binary\n",
    "    split = [0,0]\n",
    "    bestthreshold = 0\n",
    "    bestgini = -10\n",
    "    while(threshold < np.max(x)):\n",
    "        for i in range(len(x)):\n",
    "            if(x[i] < threshold):\n",
    "                split[0] += 1\n",
    "            if(x[i] >= threshold):\n",
    "                split[1] += 1\n",
    "        currgini = giniofnode(split)\n",
    "        if(abs(bestgini - 0.5) > abs(currgini - 0.5)):\n",
    "            bestgini = currgini\n",
    "            bestthreshold = threshold\n",
    "        threshold += step\n",
    "        print(split)\n",
    "        split = [0,0]\n",
    "    return bestthreshold,bestgini\n",
    "def count_to_cat(x,y):\n",
    "    thresh,gini = find_thresh(list(x),list(y))\n",
    "    print(thresh,gini)\n",
    "    l = []\n",
    "    for i in list(x):\n",
    "        if( i < thresh):\n",
    "            l.append(0)\n",
    "        else:\n",
    "            l.append(1)\n",
    "    return l\n",
    "    \n",
    "\n",
    "\n",
    "    "
   ]
  },
  {
   "cell_type": "code",
   "execution_count": 25,
   "id": "a1c88ec4",
   "metadata": {},
   "outputs": [
    {
     "name": "stdout",
     "output_type": "stream",
     "text": [
      "[0, 266]\n",
      "[24, 242]\n",
      "[87, 179]\n",
      "[144, 122]\n",
      "[215, 51]\n",
      "[261, 5]\n",
      "45.3415037593985 0.4965797953530444\n",
      "[0, 266]\n",
      "[43, 223]\n",
      "[100, 166]\n",
      "[169, 97]\n",
      "[244, 22]\n",
      "16.544511278195486 0.4692181581773984\n",
      "[0, 266]\n",
      "[90, 176]\n",
      "[195, 71]\n",
      "192.1327067669173 0.44773588105602363\n"
     ]
    }
   ],
   "source": [
    "x_train[\"bill_length_mm\"] = (count_to_cat(x_train[\"bill_length_mm\"],y_train))\n",
    "x_train[\"bill_depth_mm\"] = (count_to_cat(x_train[\"bill_depth_mm\"],y_train))\n",
    "x_train[\"flipper_length_mm\"] = (count_to_cat(x_train[\"flipper_length_mm\"],y_train))"
   ]
  },
  {
   "cell_type": "code",
   "execution_count": 26,
   "id": "22a7da19",
   "metadata": {
    "scrolled": true
   },
   "outputs": [
    {
     "data": {
      "text/html": [
       "<div>\n",
       "<style scoped>\n",
       "    .dataframe tbody tr th:only-of-type {\n",
       "        vertical-align: middle;\n",
       "    }\n",
       "\n",
       "    .dataframe tbody tr th {\n",
       "        vertical-align: top;\n",
       "    }\n",
       "\n",
       "    .dataframe thead th {\n",
       "        text-align: right;\n",
       "    }\n",
       "</style>\n",
       "<table border=\"1\" class=\"dataframe\">\n",
       "  <thead>\n",
       "    <tr style=\"text-align: right;\">\n",
       "      <th></th>\n",
       "      <th>island</th>\n",
       "      <th>bill_length_mm</th>\n",
       "      <th>bill_depth_mm</th>\n",
       "      <th>flipper_length_mm</th>\n",
       "      <th>sex</th>\n",
       "      <th>year</th>\n",
       "    </tr>\n",
       "  </thead>\n",
       "  <tbody>\n",
       "    <tr>\n",
       "      <th>207</th>\n",
       "      <td>0</td>\n",
       "      <td>0</td>\n",
       "      <td>0</td>\n",
       "      <td>1</td>\n",
       "      <td>1</td>\n",
       "      <td>1</td>\n",
       "    </tr>\n",
       "    <tr>\n",
       "      <th>325</th>\n",
       "      <td>1</td>\n",
       "      <td>1</td>\n",
       "      <td>1</td>\n",
       "      <td>1</td>\n",
       "      <td>0</td>\n",
       "      <td>2</td>\n",
       "    </tr>\n",
       "    <tr>\n",
       "      <th>157</th>\n",
       "      <td>0</td>\n",
       "      <td>1</td>\n",
       "      <td>0</td>\n",
       "      <td>1</td>\n",
       "      <td>0</td>\n",
       "      <td>0</td>\n",
       "    </tr>\n",
       "    <tr>\n",
       "      <th>96</th>\n",
       "      <td>1</td>\n",
       "      <td>0</td>\n",
       "      <td>1</td>\n",
       "      <td>0</td>\n",
       "      <td>0</td>\n",
       "      <td>1</td>\n",
       "    </tr>\n",
       "    <tr>\n",
       "      <th>160</th>\n",
       "      <td>0</td>\n",
       "      <td>0</td>\n",
       "      <td>0</td>\n",
       "      <td>1</td>\n",
       "      <td>0</td>\n",
       "      <td>0</td>\n",
       "    </tr>\n",
       "  </tbody>\n",
       "</table>\n",
       "</div>"
      ],
      "text/plain": [
       "     island  bill_length_mm  bill_depth_mm  flipper_length_mm  sex  year\n",
       "207       0               0              0                  1    1     1\n",
       "325       1               1              1                  1    0     2\n",
       "157       0               1              0                  1    0     0\n",
       "96        1               0              1                  0    0     1\n",
       "160       0               0              0                  1    0     0"
      ]
     },
     "execution_count": 26,
     "metadata": {},
     "output_type": "execute_result"
    }
   ],
   "source": [
    "x_train.head()\n",
    "# x_train = x_train.drop(\"year\",axis = 1)"
   ]
  },
  {
   "cell_type": "code",
   "execution_count": 27,
   "id": "47cdf0cc",
   "metadata": {},
   "outputs": [
    {
     "data": {
      "text/plain": [
       "1"
      ]
     },
     "execution_count": 27,
     "metadata": {},
     "output_type": "execute_result"
    }
   ],
   "source": [
    "x_train.index = [i for i in range(len(x_train))]\n",
    "y_train.index = [i for i in range(len(x_train))]\n",
    "y_train[104]"
   ]
  },
  {
   "cell_type": "code",
   "execution_count": 77,
   "id": "3a58e18a",
   "metadata": {},
   "outputs": [
    {
     "name": "stderr",
     "output_type": "stream",
     "text": [
      "C:\\Users\\vidit\\AppData\\Local\\Temp\\ipykernel_20400\\2528277565.py:7: RuntimeWarning: invalid value encountered in long_scalars\n",
      "  gini = gini + (-((i/total)**2))\n",
      "C:\\Users\\vidit\\AppData\\Local\\Temp\\ipykernel_20400\\2528277565.py:7: RuntimeWarning: invalid value encountered in long_scalars\n",
      "  gini = gini + (-((i/total)**2))\n",
      "C:\\Users\\vidit\\AppData\\Local\\Temp\\ipykernel_20400\\2528277565.py:7: RuntimeWarning: invalid value encountered in long_scalars\n",
      "  gini = gini + (-((i/total)**2))\n",
      "C:\\Users\\vidit\\AppData\\Local\\Temp\\ipykernel_20400\\2528277565.py:7: RuntimeWarning: invalid value encountered in long_scalars\n",
      "  gini = gini + (-((i/total)**2))\n",
      "C:\\Users\\vidit\\AppData\\Local\\Temp\\ipykernel_20400\\2528277565.py:7: RuntimeWarning: invalid value encountered in long_scalars\n",
      "  gini = gini + (-((i/total)**2))\n",
      "C:\\Users\\vidit\\AppData\\Local\\Temp\\ipykernel_20400\\2528277565.py:7: RuntimeWarning: invalid value encountered in long_scalars\n",
      "  gini = gini + (-((i/total)**2))\n",
      "C:\\Users\\vidit\\AppData\\Local\\Temp\\ipykernel_20400\\2528277565.py:7: RuntimeWarning: invalid value encountered in long_scalars\n",
      "  gini = gini + (-((i/total)**2))\n",
      "C:\\Users\\vidit\\AppData\\Local\\Temp\\ipykernel_20400\\2528277565.py:7: RuntimeWarning: invalid value encountered in long_scalars\n",
      "  gini = gini + (-((i/total)**2))\n",
      "C:\\Users\\vidit\\AppData\\Local\\Temp\\ipykernel_20400\\2528277565.py:7: RuntimeWarning: invalid value encountered in long_scalars\n",
      "  gini = gini + (-((i/total)**2))\n",
      "C:\\Users\\vidit\\AppData\\Local\\Temp\\ipykernel_20400\\2528277565.py:7: RuntimeWarning: invalid value encountered in long_scalars\n",
      "  gini = gini + (-((i/total)**2))\n",
      "C:\\Users\\vidit\\AppData\\Local\\Temp\\ipykernel_20400\\2528277565.py:7: RuntimeWarning: invalid value encountered in long_scalars\n",
      "  gini = gini + (-((i/total)**2))\n",
      "C:\\Users\\vidit\\AppData\\Local\\Temp\\ipykernel_20400\\2528277565.py:7: RuntimeWarning: invalid value encountered in long_scalars\n",
      "  gini = gini + (-((i/total)**2))\n",
      "C:\\Users\\vidit\\AppData\\Local\\Temp\\ipykernel_20400\\2528277565.py:7: RuntimeWarning: invalid value encountered in long_scalars\n",
      "  gini = gini + (-((i/total)**2))\n",
      "C:\\Users\\vidit\\AppData\\Local\\Temp\\ipykernel_20400\\2528277565.py:7: RuntimeWarning: invalid value encountered in long_scalars\n",
      "  gini = gini + (-((i/total)**2))\n"
     ]
    }
   ],
   "source": [
    "# head = node(None,5,x_train,y_train)\n",
    "# head = Train_tree(head)\n",
    "clf = DecisionTreeClassifier(5)\n",
    "clf.fit_train(x_train,y_train)"
   ]
  },
  {
   "cell_type": "code",
   "execution_count": 78,
   "id": "ff373aa1",
   "metadata": {},
   "outputs": [],
   "source": [
    "predicted_values = clf.predict(x_test)"
   ]
  },
  {
   "cell_type": "code",
   "execution_count": 79,
   "id": "192f60bb",
   "metadata": {},
   "outputs": [
    {
     "name": "stdout",
     "output_type": "stream",
     "text": [
      "0.7014925373134329\n",
      "              precision    recall  f1-score   support\n",
      "\n",
      "           0       1.00      0.35      0.52        31\n",
      "           1       0.54      1.00      0.70        14\n",
      "           2       0.73      1.00      0.85        22\n",
      "\n",
      "    accuracy                           0.70        67\n",
      "   macro avg       0.76      0.78      0.69        67\n",
      "weighted avg       0.82      0.70      0.67        67\n",
      "\n"
     ]
    }
   ],
   "source": [
    "from sklearn.metrics import accuracy_score,confusion_matrix,classification_report\n",
    "print(accuracy_score(y_test,predicted_values))\n",
    "print(classification_report(y_test,predicted_values))"
   ]
  },
  {
   "cell_type": "code",
   "execution_count": 75,
   "id": "116726ed",
   "metadata": {},
   "outputs": [
    {
     "name": "stdout",
     "output_type": "stream",
     "text": [
      "[[11 12  8]\n",
      " [ 0 14  0]\n",
      " [ 0  0 22]]\n"
     ]
    }
   ],
   "source": [
    "print(confusion_matrix(y_test,predicted_values))"
   ]
  },
  {
   "cell_type": "code",
   "execution_count": null,
   "id": "b67ed7e9",
   "metadata": {},
   "outputs": [],
   "source": []
  }
 ],
 "metadata": {
  "kernelspec": {
   "display_name": "Python 3 (ipykernel)",
   "language": "python",
   "name": "python3"
  },
  "language_info": {
   "codemirror_mode": {
    "name": "ipython",
    "version": 3
   },
   "file_extension": ".py",
   "mimetype": "text/x-python",
   "name": "python",
   "nbconvert_exporter": "python",
   "pygments_lexer": "ipython3",
   "version": "3.9.13"
  }
 },
 "nbformat": 4,
 "nbformat_minor": 5
}
